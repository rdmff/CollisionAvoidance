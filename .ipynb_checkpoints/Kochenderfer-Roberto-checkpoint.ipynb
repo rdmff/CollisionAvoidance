{
 "cells": [
  {
   "cell_type": "markdown",
   "id": "57e8b75a",
   "metadata": {},
   "source": [
    "![CIn UFPE](https://media.licdn.com/dms/image/C4E1BAQGE9NakMenMTA/company-background_10000/0/1625683462457/cinufpe_cover?e=2147483647&v=beta&t=TQcLMZkvhvLF3e-QtAjjzrNGfYIMPJoYikrrhZfJTVA)\n",
    "# IN1165 - Tomada de Decisão com Machine Learning\n",
    "## Roberto de Medeiros <rmff2@cin.ufpe.br>\n",
    "## Referência:\n",
    "#### [1] Kochenderfer, Mykel (2015). Decision Making Under Uncertainty. MIT Press. Cambridge, Massachusetts.  Disponível em http://web.stanford.edu/group/sisl/public/dmu.pdf. Acesso em 19 de abr. de 2024.\n",
    "#### [2] SISL. SISL GitHub. Disponível em https://github.com/sisl/CollisionAvoidancePOMDPs.jl . Acesso em 19 de abr. de 2024."
   ]
  },
  {
   "cell_type": "code",
   "execution_count": 32,
   "id": "055f9e1d",
   "metadata": {},
   "outputs": [],
   "source": [
    "import random"
   ]
  },
  {
   "cell_type": "markdown",
   "id": "b565f303",
   "metadata": {},
   "source": [
    "#### Vetores (variáveis)"
   ]
  },
  {
   "cell_type": "code",
   "execution_count": 38,
   "id": "83b51cb5",
   "metadata": {},
   "outputs": [],
   "source": [
    "h = [] #float, altitude do intruso versus o avião\n",
    "h0 = [] #float, taxa vertical do avião\n",
    "h1 = [] #float, taxa vertical do intruso\n",
    "tau = [] #float, tempo de potencial colisão\n",
    "s_adv = [] #str, advertência\n",
    "s_res = [] #bool, resposta do piloto\n",
    "#atributos temporais\n",
    "ht_0 = [] #float, h¨0 ft/s2\n",
    "ht_1 = [] #float, h¨1 ft/s2\n",
    "a = '' #nova advertência\n",
    "#atributos extras\n",
    "d = [] #float, distância para colisão\n",
    "v0 = 25.0 #float, velocidade do avião ft/s, será mantida cte de 1500ft/min = 25ft/s\n",
    "v1 = 25.0 #float, velocidade do intruso ft/s, será mantida cte de 1500ft/min = 25ft/s\n",
    "rwd = [] #float, recompensa"
   ]
  },
  {
   "cell_type": "markdown",
   "id": "520edfc7",
   "metadata": {},
   "source": [
    "#### Funções"
   ]
  },
  {
   "cell_type": "code",
   "execution_count": 34,
   "id": "7d22908e",
   "metadata": {},
   "outputs": [],
   "source": [
    "def advisiory(s_res,s_adv,a):\n",
    "    return 'COC',0.0#precisa ser feito com diferentes situações, inicial é livre de colisões e 0.0\n",
    "\n",
    "def rnd_adversary(h,v):\n",
    "    rnd = random.randint(0,1)\n",
    "    a = ''\n",
    "    if(rnd == 0):\n",
    "        rnd = -1 #se 0 é negativo (-1), 1 senão\n",
    "        a = 'DENCEND' #descer (25ft/s), sem aceleração\n",
    "        return 1.0*(h-v),a\n",
    "    else:\n",
    "        a = 'CLIMB' #subir (25ft/s), sem aceleração\n",
    "        return 1.0*(h+v),a\n",
    "\n",
    "def rnd_move():\n",
    "    rnd = random.randint(0,1)\n",
    "    if(rnd == 0):\n",
    "        return 'DENCEND'\n",
    "    else:\n",
    "        return 'CLIMB'\n",
    "\n",
    "def advisory_make(h,h1_moving):#h1_moving é o movimento str do adversário\n",
    "    #if h == 0.0:\n",
    "    if h1_moving=='CLIMB':\n",
    "        return 'DESCEND'\n",
    "    elif h1_moving=='DESCEND':\n",
    "        return 'CLIMB'\n",
    "    elif h1_moving=='NORMAL':\n",
    "        return rnd_move()\n",
    "    return 'COC'\n",
    "    #else:\n",
    "        #return 'COC'"
   ]
  },
  {
   "cell_type": "markdown",
   "id": "fd859ae2",
   "metadata": {},
   "source": [
    "#### Inicializando"
   ]
  },
  {
   "cell_type": "code",
   "execution_count": 39,
   "id": "b53bbae6",
   "metadata": {},
   "outputs": [
    {
     "name": "stdout",
     "output_type": "stream",
     "text": [
      "h0 \n",
      "[35000.0]\n",
      "h1 \n",
      "[35000.0]\n",
      "h \n",
      "[0.0]\n",
      "d \n",
      "[500]\n",
      "tau \n",
      "[10.0]\n",
      "s_adv \n",
      "['COC']\n",
      "rwd \n",
      "[1e-09]\n",
      "s_res \n",
      "[True]\n"
     ]
    }
   ],
   "source": [
    "h0.append(35000.0) #altitude inicial segura é 30.000 a 40.000 ft\n",
    "h1.append(35000.0) #intruso em mesma altitude inicial (atribuição pessoal)\n",
    "h.append(0.0)\n",
    "#d.append(60695-5.381) #606955,381 ft é a distância mínima média dos radares atuais\n",
    "d.append(500) #606955,381 ft é a distância mínima média dos radares atuais\n",
    "#v0 = v1 = cte 25ft/s, velocidade usada também em subida ou descida, desconsiderou aceleração, a princípio\n",
    "tau.append((d[0])/50.0) #distância / soma da velocidade de ambos aviões\n",
    "s_adv.append('COC')\n",
    "rwd.append(0.000000001) #COC = 1*(10^-9)\n",
    "s_res.append(True) #(?) piloto em resposta, a princípio\n",
    "#a terá inicial aleatório\n",
    "rnd = random.randint(0,1)\n",
    "if(rnd == 0):\n",
    "    rnd = -1 #se 0 é negativo (-1), 1 senão\n",
    "    a = 'DENCEND' #descer (-25ft/s), sem aceleração\n",
    "else:\n",
    "    a = 'CLIMB' #subir (25ft/s), sem aceleração\n",
    "\n",
    "print('h0 ')\n",
    "print(h0)\n",
    "print('h1 ')\n",
    "print(h1)\n",
    "print('h ')\n",
    "print(h)\n",
    "print('d ')\n",
    "print(d)\n",
    "print('tau ')\n",
    "print(tau)\n",
    "print('s_adv ')\n",
    "print(s_adv)\n",
    "print('rwd ')\n",
    "print(rwd)\n",
    "print('s_res ')\n",
    "print(s_res)"
   ]
  },
  {
   "cell_type": "markdown",
   "id": "3581445c",
   "metadata": {},
   "source": [
    "#### Atualizando valores"
   ]
  },
  {
   "cell_type": "code",
   "execution_count": 40,
   "id": "ebc4ab33",
   "metadata": {},
   "outputs": [
    {
     "name": "stdout",
     "output_type": "stream",
     "text": [
      "h0 35025.0\n",
      "d 450.0\n",
      "adv: COC\n",
      "h1: DENCEND\n",
      "h0 35025.0\n",
      "d 400.0\n",
      "adv: CLIMB\n",
      "h1: NORMAL\n",
      "h0 35050.0\n",
      "d 350.0\n",
      "adv: CLIMB\n",
      "h1: NORMAL\n",
      "h0 35075.0\n",
      "d 300.0\n",
      "adv: DENCEND\n",
      "h1: NORMAL\n",
      "h0 35075.0\n",
      "d 250.0\n",
      "adv: DENCEND\n",
      "h1: NORMAL\n",
      "h0 35075.0\n",
      "d 200.0\n",
      "adv: COC\n",
      "h1: DENCEND\n",
      "h0 35075.0\n",
      "d 150.0\n",
      "adv: CLIMB\n",
      "h1: NORMAL\n",
      "h0 35100.0\n",
      "d 100.0\n",
      "adv: CLIMB\n",
      "h1: NORMAL\n",
      "h0 35125.0\n",
      "d 50.0\n",
      "adv: DENCEND\n",
      "h1: NORMAL\n",
      "h0 35125.0\n",
      "d 0.0\n",
      "adv: CLIMB\n",
      "h1: NORMAL\n",
      "LOLO\n",
      "END!\n"
     ]
    }
   ],
   "source": [
    "repeat = True\n",
    "h1_count = 5\n",
    "h1_move = -25.0\n",
    "h1_moving = 'NORMAL'\n",
    "collision = v0+v1#irão colidir se estiverem a v0+v1 ft, porque o próximo movimento é bate ou LOLO\n",
    "it_count = 0\n",
    "\n",
    "while(repeat):\n",
    "    if h1_count==5:#rand a cada 5s | pode ser a cada iteração\n",
    "        h1_count=0\n",
    "        h1_move, h1_moving = rnd_adversary(0.0,25.0)\n",
    "    else:\n",
    "        h1_moving = 'NORMAL'\n",
    "    h1.append(h1_move)\n",
    "    h1_count+=1\n",
    "    if(a=='DESCEND'):\n",
    "        h0.append(1.0*(h0[len(h0)-1])-25.0)\n",
    "    elif(a=='CLIMB'):\n",
    "        h0.append(1.0*(h0[len(h0)-1])+25.0)\n",
    "    else:\n",
    "        h0.append(h0[len(h0)-1])\n",
    "    print(f'h0 {h0[len(h0)-1]}')\n",
    "    d.append(d[len(d)-1]-v0-v1)\n",
    "    print(f'd {d[len(d)-1]}')\n",
    "    s_adv.append(a)\n",
    "    s_res.append(True)\n",
    "    h = abs(h0[len(h0)-1]-h1[len(h1)-1])#diferença entre ambas alturas\n",
    "    #update no 'a' decisão da torre de controle\n",
    "    a = advisory_make(h,h1_moving)\n",
    "    #if it_count%100 == 0:\n",
    "    print('adv: '+a)\n",
    "    print('h1: '+h1_moving)\n",
    "    it_count += 1\n",
    "    #parada em 1 iteração\n",
    "    if d[len(d)-1]<collision:\n",
    "        if s_adv[len(s_adv)-1] == 'COC' and a == 'COC':\n",
    "            print('SURVIVED!')\n",
    "        else:\n",
    "            print('LOLO')\n",
    "        print('END!')\n",
    "        repeat = False"
   ]
  },
  {
   "cell_type": "code",
   "execution_count": null,
   "id": "cd945dd3",
   "metadata": {},
   "outputs": [],
   "source": []
  }
 ],
 "metadata": {
  "kernelspec": {
   "display_name": "Python 3 (ipykernel)",
   "language": "python",
   "name": "python3"
  },
  "language_info": {
   "codemirror_mode": {
    "name": "ipython",
    "version": 3
   },
   "file_extension": ".py",
   "mimetype": "text/x-python",
   "name": "python",
   "nbconvert_exporter": "python",
   "pygments_lexer": "ipython3",
   "version": "3.11.7"
  }
 },
 "nbformat": 4,
 "nbformat_minor": 5
}
