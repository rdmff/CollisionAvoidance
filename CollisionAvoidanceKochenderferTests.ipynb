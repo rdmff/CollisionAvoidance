{
 "cells": [
  {
   "cell_type": "code",
   "execution_count": null,
   "id": "f1134e56",
   "metadata": {},
   "outputs": [],
   "source": [
    "\"\"\"\n",
    "Class: CIn UFPE IN1087\n",
    "Professor: Ricardo Martins de Abreu Silva\n",
    "Staff: Roberto de Medeiros\n",
    "Members: <nomes>\n",
    "References:\n",
    "[1] \n",
    "\"\"\""
   ]
  }
 ],
 "metadata": {
  "kernelspec": {
   "display_name": "Python 3 (ipykernel)",
   "language": "python",
   "name": "python3"
  },
  "language_info": {
   "codemirror_mode": {
    "name": "ipython",
    "version": 3
   },
   "file_extension": ".py",
   "mimetype": "text/x-python",
   "name": "python",
   "nbconvert_exporter": "python",
   "pygments_lexer": "ipython3",
   "version": "3.11.5"
  }
 },
 "nbformat": 4,
 "nbformat_minor": 5
}
